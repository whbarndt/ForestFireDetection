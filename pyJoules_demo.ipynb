{
 "cells": [
  {
   "cell_type": "code",
   "execution_count": null,
   "metadata": {},
   "outputs": [],
   "source": [
    "# Import Library\n",
    "import pyJoules"
   ]
  },
  {
   "attachments": {},
   "cell_type": "markdown",
   "metadata": {},
   "source": [
    "Only works on:\n",
    "* GNU/Linux\n",
    "\n",
    "It monitors the energy consumed by specific device of the host machine such as :\n",
    "\n",
    "* intel CPU socket package\n",
    "* RAM (for intel server architectures)\n",
    "* intel integrated GPU (for client architectures)\n",
    "* nvidia GPU\n",
    "\n",
    "Requires:\n",
    "* python >= 3.7\n",
    "* nvml (if you want nvidia GPU support)\n",
    "\n",
    "Install:\n",
    "* pip install pyJoules\n",
    "* pip install pyJoules[nvidia] (Measures Nvidia GPU)"
   ]
  },
  {
   "cell_type": "code",
   "execution_count": null,
   "metadata": {},
   "outputs": [],
   "source": [
    "from pyJoules.energy_meter import measure_energy\n",
    "\n",
    "@measure_energy\n",
    "# Test Function\n",
    "def recursive_fib(n):\n",
    "    if (n <= 2): return 1\n",
    "    else: return recursive_fib(n-1) + recursive_fib(n-2)\n",
    "\n",
    "num = 40\n",
    "recursive_fib(num)"
   ]
  }
 ],
 "metadata": {
  "kernelspec": {
   "display_name": "forestfiredetection_gpu",
   "language": "python",
   "name": "python3"
  },
  "language_info": {
   "codemirror_mode": {
    "name": "ipython",
    "version": 3
   },
   "file_extension": ".py",
   "mimetype": "text/x-python",
   "name": "python",
   "nbconvert_exporter": "python",
   "pygments_lexer": "ipython3",
   "version": "3.9.16"
  },
  "orig_nbformat": 4
 },
 "nbformat": 4,
 "nbformat_minor": 2
}
