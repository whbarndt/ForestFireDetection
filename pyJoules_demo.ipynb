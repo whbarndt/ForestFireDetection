{
 "cells": [
  {
   "cell_type": "code",
   "execution_count": 4,
   "metadata": {},
   "outputs": [],
   "source": [
    "# Import Library\n",
    "import pyJoules"
   ]
  },
  {
   "attachments": {},
   "cell_type": "markdown",
   "metadata": {},
   "source": [
    "Only works on:\n",
    "* GNU/Linux\n",
    "\n",
    "It monitors the energy consumed by specific device of the host machine such as :\n",
    "\n",
    "* intel CPU socket package\n",
    "* RAM (for intel server architectures)\n",
    "* intel integrated GPU (for client architectures)\n",
    "* nvidia GPU\n",
    "\n",
    "Requires:\n",
    "* python >= 3.7\n",
    "* nvml (if you want nvidia GPU support)\n",
    "\n",
    "Install:\n",
    "* pip install pyJoules\n",
    "* pip install pyJoules[nvidia] (Measures Nvidia GPU)"
   ]
  },
  {
   "cell_type": "code",
   "execution_count": 5,
   "metadata": {},
   "outputs": [
    {
     "ename": "TypeError",
     "evalue": "reduce() of empty sequence with no initial value",
     "output_type": "error",
     "traceback": [
      "\u001b[1;31m---------------------------------------------------------------------------\u001b[0m",
      "\u001b[1;31mTypeError\u001b[0m                                 Traceback (most recent call last)",
      "Cell \u001b[1;32mIn[5], line 10\u001b[0m\n\u001b[0;32m      7\u001b[0m     \u001b[39melse\u001b[39;00m: \u001b[39mreturn\u001b[39;00m recursive_fib(n\u001b[39m-\u001b[39m\u001b[39m1\u001b[39m) \u001b[39m+\u001b[39m recursive_fib(n\u001b[39m-\u001b[39m\u001b[39m2\u001b[39m)\n\u001b[0;32m      9\u001b[0m num \u001b[39m=\u001b[39m \u001b[39m40\u001b[39m\n\u001b[1;32m---> 10\u001b[0m recursive_fib(num)\n",
      "File \u001b[1;32mc:\\Users\\Hunter\\miniconda3\\envs\\forestfiredetection_gpu\\lib\\site-packages\\pyJoules\\energy_meter.py:296\u001b[0m, in \u001b[0;36mmeasure_energy.<locals>.decorator_measure_energy.<locals>.wrapper_measure\u001b[1;34m(*args, **kwargs)\u001b[0m\n\u001b[0;32m    293\u001b[0m \u001b[39m@functools\u001b[39m\u001b[39m.\u001b[39mwraps(func)\n\u001b[0;32m    294\u001b[0m \u001b[39mdef\u001b[39;00m \u001b[39mwrapper_measure\u001b[39m(\u001b[39m*\u001b[39margs, \u001b[39m*\u001b[39m\u001b[39m*\u001b[39mkwargs):\n\u001b[0;32m    295\u001b[0m     energy_meter\u001b[39m.\u001b[39mstart(tag\u001b[39m=\u001b[39mfunc\u001b[39m.\u001b[39m\u001b[39m__name__\u001b[39m)\n\u001b[1;32m--> 296\u001b[0m     val \u001b[39m=\u001b[39m func(\u001b[39m*\u001b[39;49margs, \u001b[39m*\u001b[39;49m\u001b[39m*\u001b[39;49mkwargs)\n\u001b[0;32m    297\u001b[0m     energy_meter\u001b[39m.\u001b[39mstop()\n\u001b[0;32m    298\u001b[0m     handler\u001b[39m.\u001b[39mprocess(energy_meter\u001b[39m.\u001b[39mget_trace())\n",
      "Cell \u001b[1;32mIn[5], line 7\u001b[0m, in \u001b[0;36mrecursive_fib\u001b[1;34m(n)\u001b[0m\n\u001b[0;32m      3\u001b[0m \u001b[39m@measure_energy\u001b[39m\n\u001b[0;32m      4\u001b[0m \u001b[39m# Test Function\u001b[39;00m\n\u001b[0;32m      5\u001b[0m \u001b[39mdef\u001b[39;00m \u001b[39mrecursive_fib\u001b[39m(n):\n\u001b[0;32m      6\u001b[0m     \u001b[39mif\u001b[39;00m (n \u001b[39m<\u001b[39m\u001b[39m=\u001b[39m \u001b[39m2\u001b[39m): \u001b[39mreturn\u001b[39;00m \u001b[39m1\u001b[39m\n\u001b[1;32m----> 7\u001b[0m     \u001b[39melse\u001b[39;00m: \u001b[39mreturn\u001b[39;00m recursive_fib(n\u001b[39m-\u001b[39;49m\u001b[39m1\u001b[39;49m) \u001b[39m+\u001b[39m recursive_fib(n\u001b[39m-\u001b[39m\u001b[39m2\u001b[39m)\n",
      "File \u001b[1;32mc:\\Users\\Hunter\\miniconda3\\envs\\forestfiredetection_gpu\\lib\\site-packages\\pyJoules\\energy_meter.py:296\u001b[0m, in \u001b[0;36mmeasure_energy.<locals>.decorator_measure_energy.<locals>.wrapper_measure\u001b[1;34m(*args, **kwargs)\u001b[0m\n\u001b[0;32m    293\u001b[0m \u001b[39m@functools\u001b[39m\u001b[39m.\u001b[39mwraps(func)\n\u001b[0;32m    294\u001b[0m \u001b[39mdef\u001b[39;00m \u001b[39mwrapper_measure\u001b[39m(\u001b[39m*\u001b[39margs, \u001b[39m*\u001b[39m\u001b[39m*\u001b[39mkwargs):\n\u001b[0;32m    295\u001b[0m     energy_meter\u001b[39m.\u001b[39mstart(tag\u001b[39m=\u001b[39mfunc\u001b[39m.\u001b[39m\u001b[39m__name__\u001b[39m)\n\u001b[1;32m--> 296\u001b[0m     val \u001b[39m=\u001b[39m func(\u001b[39m*\u001b[39;49margs, \u001b[39m*\u001b[39;49m\u001b[39m*\u001b[39;49mkwargs)\n\u001b[0;32m    297\u001b[0m     energy_meter\u001b[39m.\u001b[39mstop()\n\u001b[0;32m    298\u001b[0m     handler\u001b[39m.\u001b[39mprocess(energy_meter\u001b[39m.\u001b[39mget_trace())\n",
      "Cell \u001b[1;32mIn[5], line 7\u001b[0m, in \u001b[0;36mrecursive_fib\u001b[1;34m(n)\u001b[0m\n\u001b[0;32m      3\u001b[0m \u001b[39m@measure_energy\u001b[39m\n\u001b[0;32m      4\u001b[0m \u001b[39m# Test Function\u001b[39;00m\n\u001b[0;32m      5\u001b[0m \u001b[39mdef\u001b[39;00m \u001b[39mrecursive_fib\u001b[39m(n):\n\u001b[0;32m      6\u001b[0m     \u001b[39mif\u001b[39;00m (n \u001b[39m<\u001b[39m\u001b[39m=\u001b[39m \u001b[39m2\u001b[39m): \u001b[39mreturn\u001b[39;00m \u001b[39m1\u001b[39m\n\u001b[1;32m----> 7\u001b[0m     \u001b[39melse\u001b[39;00m: \u001b[39mreturn\u001b[39;00m recursive_fib(n\u001b[39m-\u001b[39;49m\u001b[39m1\u001b[39;49m) \u001b[39m+\u001b[39m recursive_fib(n\u001b[39m-\u001b[39m\u001b[39m2\u001b[39m)\n",
      "    \u001b[1;31m[... skipping similar frames: recursive_fib at line 7 (35 times), measure_energy.<locals>.decorator_measure_energy.<locals>.wrapper_measure at line 296 (35 times)]\u001b[0m\n",
      "File \u001b[1;32mc:\\Users\\Hunter\\miniconda3\\envs\\forestfiredetection_gpu\\lib\\site-packages\\pyJoules\\energy_meter.py:296\u001b[0m, in \u001b[0;36mmeasure_energy.<locals>.decorator_measure_energy.<locals>.wrapper_measure\u001b[1;34m(*args, **kwargs)\u001b[0m\n\u001b[0;32m    293\u001b[0m \u001b[39m@functools\u001b[39m\u001b[39m.\u001b[39mwraps(func)\n\u001b[0;32m    294\u001b[0m \u001b[39mdef\u001b[39;00m \u001b[39mwrapper_measure\u001b[39m(\u001b[39m*\u001b[39margs, \u001b[39m*\u001b[39m\u001b[39m*\u001b[39mkwargs):\n\u001b[0;32m    295\u001b[0m     energy_meter\u001b[39m.\u001b[39mstart(tag\u001b[39m=\u001b[39mfunc\u001b[39m.\u001b[39m\u001b[39m__name__\u001b[39m)\n\u001b[1;32m--> 296\u001b[0m     val \u001b[39m=\u001b[39m func(\u001b[39m*\u001b[39;49margs, \u001b[39m*\u001b[39;49m\u001b[39m*\u001b[39;49mkwargs)\n\u001b[0;32m    297\u001b[0m     energy_meter\u001b[39m.\u001b[39mstop()\n\u001b[0;32m    298\u001b[0m     handler\u001b[39m.\u001b[39mprocess(energy_meter\u001b[39m.\u001b[39mget_trace())\n",
      "Cell \u001b[1;32mIn[5], line 7\u001b[0m, in \u001b[0;36mrecursive_fib\u001b[1;34m(n)\u001b[0m\n\u001b[0;32m      3\u001b[0m \u001b[39m@measure_energy\u001b[39m\n\u001b[0;32m      4\u001b[0m \u001b[39m# Test Function\u001b[39;00m\n\u001b[0;32m      5\u001b[0m \u001b[39mdef\u001b[39;00m \u001b[39mrecursive_fib\u001b[39m(n):\n\u001b[0;32m      6\u001b[0m     \u001b[39mif\u001b[39;00m (n \u001b[39m<\u001b[39m\u001b[39m=\u001b[39m \u001b[39m2\u001b[39m): \u001b[39mreturn\u001b[39;00m \u001b[39m1\u001b[39m\n\u001b[1;32m----> 7\u001b[0m     \u001b[39melse\u001b[39;00m: \u001b[39mreturn\u001b[39;00m recursive_fib(n\u001b[39m-\u001b[39;49m\u001b[39m1\u001b[39;49m) \u001b[39m+\u001b[39m recursive_fib(n\u001b[39m-\u001b[39m\u001b[39m2\u001b[39m)\n",
      "File \u001b[1;32mc:\\Users\\Hunter\\miniconda3\\envs\\forestfiredetection_gpu\\lib\\site-packages\\pyJoules\\energy_meter.py:298\u001b[0m, in \u001b[0;36mmeasure_energy.<locals>.decorator_measure_energy.<locals>.wrapper_measure\u001b[1;34m(*args, **kwargs)\u001b[0m\n\u001b[0;32m    296\u001b[0m val \u001b[39m=\u001b[39m func(\u001b[39m*\u001b[39margs, \u001b[39m*\u001b[39m\u001b[39m*\u001b[39mkwargs)\n\u001b[0;32m    297\u001b[0m energy_meter\u001b[39m.\u001b[39mstop()\n\u001b[1;32m--> 298\u001b[0m handler\u001b[39m.\u001b[39mprocess(energy_meter\u001b[39m.\u001b[39;49mget_trace())\n\u001b[0;32m    299\u001b[0m \u001b[39mreturn\u001b[39;00m val\n",
      "File \u001b[1;32mc:\\Users\\Hunter\\miniconda3\\envs\\forestfiredetection_gpu\\lib\\site-packages\\pyJoules\\energy_meter.py:160\u001b[0m, in \u001b[0;36mEnergyMeter.get_trace\u001b[1;34m(self)\u001b[0m\n\u001b[0;32m    157\u001b[0m \u001b[39mif\u001b[39;00m \u001b[39mnot\u001b[39;00m \u001b[39mself\u001b[39m\u001b[39m.\u001b[39m_is_meter_stoped():\n\u001b[0;32m    158\u001b[0m     \u001b[39mraise\u001b[39;00m EnergyMeterNotStoppedError()\n\u001b[1;32m--> 160\u001b[0m \u001b[39mreturn\u001b[39;00m \u001b[39mself\u001b[39;49m\u001b[39m.\u001b[39;49m_generate_trace()\n",
      "File \u001b[1;32mc:\\Users\\Hunter\\miniconda3\\envs\\forestfiredetection_gpu\\lib\\site-packages\\pyJoules\\energy_meter.py:169\u001b[0m, in \u001b[0;36mEnergyMeter._generate_trace\u001b[1;34m(self)\u001b[0m\n\u001b[0;32m    168\u001b[0m \u001b[39mdef\u001b[39;00m \u001b[39m_generate_trace\u001b[39m(\u001b[39mself\u001b[39m):\n\u001b[1;32m--> 169\u001b[0m     domains \u001b[39m=\u001b[39m \u001b[39mself\u001b[39;49m\u001b[39m.\u001b[39;49m_get_domain_list()\n\u001b[0;32m    170\u001b[0m     generator \u001b[39m=\u001b[39m TraceGenerator(\u001b[39mself\u001b[39m\u001b[39m.\u001b[39m_first_state, domains)\n\u001b[0;32m    171\u001b[0m     \u001b[39mreturn\u001b[39;00m generator\u001b[39m.\u001b[39mgenerate()\n",
      "File \u001b[1;32mc:\\Users\\Hunter\\miniconda3\\envs\\forestfiredetection_gpu\\lib\\site-packages\\pyJoules\\energy_meter.py:166\u001b[0m, in \u001b[0;36mEnergyMeter._get_domain_list\u001b[1;34m(self)\u001b[0m\n\u001b[0;32m    162\u001b[0m \u001b[39mdef\u001b[39;00m \u001b[39m_get_domain_list\u001b[39m(\u001b[39mself\u001b[39m):\n\u001b[0;32m    163\u001b[0m \u001b[39m    \u001b[39m\u001b[39m\"\"\"\u001b[39;00m\n\u001b[0;32m    164\u001b[0m \u001b[39m    return the list of all monitored domains for each monitored energy devices\u001b[39;00m\n\u001b[0;32m    165\u001b[0m \u001b[39m    \"\"\"\u001b[39;00m\n\u001b[1;32m--> 166\u001b[0m     \u001b[39mreturn\u001b[39;00m reduce(operator\u001b[39m.\u001b[39;49madd, [device\u001b[39m.\u001b[39;49mget_configured_domains() \u001b[39mfor\u001b[39;49;00m device \u001b[39min\u001b[39;49;00m \u001b[39mself\u001b[39;49m\u001b[39m.\u001b[39;49mdevices])\n",
      "File \u001b[1;32mc:\\Users\\Hunter\\miniconda3\\envs\\forestfiredetection_gpu\\Lib\\functools.py:255\u001b[0m, in \u001b[0;36mreduce\u001b[1;34m(function, sequence, initial)\u001b[0m\n\u001b[0;32m    253\u001b[0m         value \u001b[39m=\u001b[39m \u001b[39mnext\u001b[39m(it)\n\u001b[0;32m    254\u001b[0m     \u001b[39mexcept\u001b[39;00m \u001b[39mStopIteration\u001b[39;00m:\n\u001b[1;32m--> 255\u001b[0m         \u001b[39mraise\u001b[39;00m \u001b[39mTypeError\u001b[39;00m(\u001b[39m\"\u001b[39m\u001b[39mreduce() of empty sequence with no initial value\u001b[39m\u001b[39m\"\u001b[39m) \u001b[39mfrom\u001b[39;00m \u001b[39mNone\u001b[39;00m\n\u001b[0;32m    256\u001b[0m \u001b[39melse\u001b[39;00m:\n\u001b[0;32m    257\u001b[0m     value \u001b[39m=\u001b[39m initial\n",
      "\u001b[1;31mTypeError\u001b[0m: reduce() of empty sequence with no initial value"
     ]
    }
   ],
   "source": [
    "from pyJoules.energy_meter import measure_energy\n",
    "\n",
    "@measure_energy\n",
    "# Test Function\n",
    "def recursive_fib(n):\n",
    "    if (n <= 2): return 1\n",
    "    else: return recursive_fib(n-1) + recursive_fib(n-2)\n",
    "\n",
    "num = 40\n",
    "recursive_fib(num)"
   ]
  },
  {
   "cell_type": "code",
   "execution_count": null,
   "metadata": {},
   "outputs": [],
   "source": []
  }
 ],
 "metadata": {
  "kernelspec": {
   "display_name": "forestfiredetection_gpu",
   "language": "python",
   "name": "python3"
  },
  "language_info": {
   "codemirror_mode": {
    "name": "ipython",
    "version": 3
   },
   "file_extension": ".py",
   "mimetype": "text/x-python",
   "name": "python",
   "nbconvert_exporter": "python",
   "pygments_lexer": "ipython3",
   "version": "3.9.16"
  },
  "orig_nbformat": 4
 },
 "nbformat": 4,
 "nbformat_minor": 2
}
