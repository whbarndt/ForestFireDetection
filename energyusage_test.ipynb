{
 "cells": [
  {
   "cell_type": "code",
   "execution_count": null,
   "metadata": {},
   "outputs": [],
   "source": [
    "# Import Library\n",
    "import energyusage"
   ]
  },
  {
   "attachments": {},
   "cell_type": "markdown",
   "metadata": {},
   "source": [
    "It will return the value of your function, while also printing out the energy usage report on the command line. Optional keyword arguments:\n",
    "\n",
    "* pdf(default = False): generates a PDF report, alongside the command-line utility\n",
    "\n",
    "* powerLoss (default = 0.8): accounts for PSU loss, can be set by user if known for higher accuracy of results\n",
    "\n",
    "* energyOutput (default = False): prints amount of energy used by the process and time taken. The order is time, energy used, return of function\n",
    "\n",
    "* printToScreen (default = True): controls whether there is a terminal printout of the package running\n",
    "\n",
    "* energyOutput (default = False): determines whether the energy used and time taken are output. When set to true the order is time used, energy used, return value of function.\n",
    "\n",
    "* locations (default = [\"Mongolia\", \"Iceland\", \"Switzerland\"]): allows selecting the countries in the emissions comparison section for the terminal printout and pdf. These can be set to the name of any country or US state.\n",
    "\n",
    "* year (default = 2016): controls the year for the data. Default is 2016 as that is currently the most recent year of data from both of our sources. Note that only this year of data is included in the package installation but more can be added in a process described later."
   ]
  },
  {
   "cell_type": "code",
   "execution_count": null,
   "metadata": {},
   "outputs": [],
   "source": [
    "# Test Function\n",
    "def recursive_fib(n):\n",
    "    if (n <= 2): return 1\n",
    "    else: return recursive_fib(n-1) + recursive_fib(n-2)\n",
    "\n",
    "# Inputs: Function, Arguements it Requires\n",
    "energyusage.evaluate(recursive_fib, 40, pdf=True)"
   ]
  }
 ],
 "metadata": {
  "kernelspec": {
   "display_name": "forestfiredetection_gpu",
   "language": "python",
   "name": "python3"
  },
  "language_info": {
   "name": "python",
   "version": "3.9.16"
  },
  "orig_nbformat": 4
 },
 "nbformat": 4,
 "nbformat_minor": 2
}
